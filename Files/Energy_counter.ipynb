{
 "cells": [
  {
   "cell_type": "code",
   "execution_count": 2,
   "metadata": {
    "collapsed": false
   },
   "outputs": [
    {
     "ename": "ImportError",
     "evalue": "dlopen(/Users/lampochka/miniconda2/lib/python2.7/site-packages/neuron/hoc.so, 2): Library not loaded: libreadline.6.2.dylib\n  Referenced from: /Users/lampochka/miniconda2/lib/python2.7/site-packages/neuron/hoc.so\n  Reason: image not found",
     "output_type": "error",
     "traceback": [
      "\u001b[0;31m---------------------------------------------------------------------------\u001b[0m",
      "\u001b[0;31mImportError\u001b[0m                               Traceback (most recent call last)",
      "\u001b[0;32m<ipython-input-2-8b97d359126f>\u001b[0m in \u001b[0;36m<module>\u001b[0;34m()\u001b[0m\n\u001b[0;32m----> 1\u001b[0;31m \u001b[0;32mfrom\u001b[0m \u001b[0mneuron\u001b[0m \u001b[0;32mimport\u001b[0m \u001b[0mh\u001b[0m\u001b[0;34m,\u001b[0m \u001b[0mgui\u001b[0m\u001b[0;34m\u001b[0m\u001b[0m\n\u001b[0m",
      "\u001b[0;32m/Users/lampochka/miniconda2/lib/python2.7/site-packages/neuron/__init__.py\u001b[0m in \u001b[0;36m<module>\u001b[0;34m()\u001b[0m\n\u001b[1;32m    104\u001b[0m \u001b[0;32mexcept\u001b[0m\u001b[0;34m:\u001b[0m\u001b[0;34m\u001b[0m\u001b[0m\n\u001b[1;32m    105\u001b[0m   \u001b[0;31m#Python3.1 extending needs to look into the module explicitly\u001b[0m\u001b[0;34m\u001b[0m\u001b[0;34m\u001b[0m\u001b[0m\n\u001b[0;32m--> 106\u001b[0;31m   \u001b[0;32mimport\u001b[0m \u001b[0mneuron\u001b[0m\u001b[0;34m.\u001b[0m\u001b[0mhoc\u001b[0m\u001b[0;34m\u001b[0m\u001b[0m\n\u001b[0m\u001b[1;32m    107\u001b[0m \u001b[0;34m\u001b[0m\u001b[0m\n\u001b[1;32m    108\u001b[0m \u001b[0;32mimport\u001b[0m \u001b[0mnrn\u001b[0m\u001b[0;34m\u001b[0m\u001b[0m\n",
      "\u001b[0;31mImportError\u001b[0m: dlopen(/Users/lampochka/miniconda2/lib/python2.7/site-packages/neuron/hoc.so, 2): Library not loaded: libreadline.6.2.dylib\n  Referenced from: /Users/lampochka/miniconda2/lib/python2.7/site-packages/neuron/hoc.so\n  Reason: image not found"
     ]
    }
   ],
   "source": [
    "from neuron import h, gui"
   ]
  },
  {
   "cell_type": "code",
   "execution_count": 43,
   "metadata": {
    "collapsed": false
   },
   "outputs": [
    {
     "name": "stdout",
     "output_type": "stream",
     "text": [
      "Populating the interactive namespace from numpy and matplotlib\n"
     ]
    }
   ],
   "source": [
    "%pylab inline"
   ]
  },
  {
   "cell_type": "code",
   "execution_count": 44,
   "metadata": {
    "collapsed": false,
    "scrolled": true
   },
   "outputs": [
    {
     "data": {
      "text/plain": [
       "1.0"
      ]
     },
     "execution_count": 44,
     "metadata": {},
     "output_type": "execute_result"
    }
   ],
   "source": [
    "h.load_file(\"Spencer.hoc\")"
   ]
  },
  {
   "cell_type": "code",
   "execution_count": null,
   "metadata": {
    "collapsed": true
   },
   "outputs": [],
   "source": [
    "h.qui"
   ]
  },
  {
   "cell_type": "code",
   "execution_count": 46,
   "metadata": {
    "collapsed": true
   },
   "outputs": [],
   "source": [
    "from collections import defaultdict"
   ]
  },
  {
   "cell_type": "code",
   "execution_count": null,
   "metadata": {
    "collapsed": true
   },
   "outputs": [],
   "source": [
    "# Посчитатель всех токов:\n",
    "\n",
    "def net_dendrite_currents():\n",
    "    \"Total dendrite currents in nA\"\n",
    "    net_i = defaultdict(lambda: 0)\n",
    "\n",
    "    for i in range(int(h.Nseg)):\n",
    "        dend = h.dend[i]\n",
    "        for loc in dend:\n",
    "            a = loc.area()*1e-8*1e6 #конвертируем площадь в см^2 и ток в nA заодно\n",
    "            net_i['ik'] += loc.ik*a \n",
    "            net_i['ih'] += loc.hcno.ih*a\n",
    "            net_i['ileak'] += loc.i_leak*a\n",
    "    return net_i\n",
    "\n",
    "def net_soma_currents():\n",
    "    net_i = defaultdict(lambda: 0)\n",
    "    loc = h.soma(0.5)\n",
    "    a = loc.area()*1e-8*1e6 #конвертируем площадь в см^2 и ток в nA заодно\n",
    "    net_i['ik'] += loc.ik*a # все К токи\n",
    "    try:\n",
    "        net_i['ina'] += loc.nas.ina*a\n",
    "    except NameError:\n",
    "        print 'skipping iNa'\n",
    "        \n",
    "    #net_i['ih'] += loc.hs.ih*a\n",
    "    net_i['ih'] += loc.hcno.i*a\n",
    "    net_i['ileak'] += loc.i_leak*a\n",
    "    return net_i\n",
    "\n",
    "def net_axon_currents():\n",
    "    net_i = defaultdict(lambda: 0)\n",
    "    for comp in (h.initial, h.axon):\n",
    "        for loc in comp:\n",
    "            a = loc.area()*1e-8*1e6 #конвертируем площадь в см^2 и ток в nA заодно\n",
    "            #net_i['ik'] += loc.ik*a # все К токи\n",
    "            #net_i['ih'] += loc.ihsab.ih*a\n",
    "            #net_i['ih'] += loc.hcno.ih*a\n",
    "            net_i['ileak'] += loc.i_leak*a\n",
    "            net_i['ina'] += loc.nas.ina*a\n",
    "    return net_i"
   ]
  },
  {
   "cell_type": "code",
   "execution_count": 1,
   "metadata": {
    "collapsed": false
   },
   "outputs": [
    {
     "name": "stdout",
     "output_type": "stream",
     "text": [
      "Writing Energy_counter.py\n"
     ]
    }
   ],
   "source": [
    "# %%writefile Energy_counter.py\n",
    "# TODO: во все компартменты добавить *все* токи, только ненужные токи \"выключить\",\n",
    "#       выставив gbar=0\n",
    "\n",
    "\n",
    "# Посчитатель энергии в равновесии: (а) Способом Moujahid et al., 2011,\n",
    "#(б) Способом подсчета ионов Attwell & Laughlin 2001\n",
    "\n",
    "# (а)\n",
    "\n",
    "def net_section_currendenrg(section):\n",
    "    \"Sum up specific currents within section and return in nA\"\n",
    "    net_i = defaultdict(lambda: 0)\n",
    "    \"e_acc holds resting energies\"\n",
    "    e_acc = defaultdict(lambda: 0)\n",
    "    Erevs = {'ina':h.initial.ena,\n",
    "             'ik':h.soma.ek,\n",
    "             'ih':h.soma.eh_hcno,\n",
    "             'leak': h.soma.erev_leak\n",
    "            }\n",
    "    for seg in section:\n",
    "        a = seg.area()*1e-8*1e6 # конвертируем площадь в см^2 и ток в nA заодно\n",
    "        \n",
    "        try: \n",
    "            net_i['ik'] += seg.ik*a # все К токи: Iklt, Ikht. nA\n",
    "            e_acc['ik'] += seg.ik*a*(seg.v-Erevs['ik']) # nA*mV = pW = 1e-12*W = 1e-12*J/s\n",
    "        except NameError: \n",
    "            print \"Skipping iK\"\n",
    "    \n",
    "        try: \n",
    "            net_i['ina'] += seg.ina*a \n",
    "            e_acc['ina'] += seg.ina*a*(seg.v-Erevs['ina'])\n",
    "        except NameError: \n",
    "            print \"Skipping iNa\"\n",
    "            \n",
    "        try: \n",
    "            net_i['ih'] += seg.hcno.i*a \n",
    "            e_acc['ih'] += seg.hcno.i*a*(seg.v-Erevs['ih'])\n",
    "        except NameError: \n",
    "            print \"Skipping ih\"\n",
    "            \n",
    "        try: \n",
    "            net_i['leak'] += seg.leak.i*a \n",
    "            e_acc['leak'] += seg.leak.i*a*(seg.v-Erevs['leak'])\n",
    "        except NameError: \n",
    "            print \"Skipping leak\"  \n",
    "    return net_i, e_acc\n",
    "\n",
    "# (б)\n",
    "\n",
    "def net_section_AtLau_enrg(section) :\n",
    "    \"Counts total resting energy consumption in ATP_moles/s (CHECK THIS in AL&Lau2001)\"\n",
    "    \n",
    "    F = 96450 # Кл/млоь\n",
    "    Rin = 6e9 # значение Rin из литературы (для крысы), Ом\n",
    "    Fatp = 50*1e15 # энергия гидролиза АТФ в пДж/моль, по Moujahid et al., 2014 (п. 2.3)\n",
    "    \n",
    "#     Что делать с входным сопротивлением? По авторам формулы, Rin = 1/(gna+gk). \n",
    "#     Можно посчитать Rin в модели, но будет ли оно соответствовать формуле\n",
    "#     Или: Какие брать значения gna, gk?\n",
    "#     Вот, попробовал 6 МОм\n",
    "  \n",
    "    Erevs = {'ina':h.initial.ena,\n",
    "             'ik':h.soma.ek,\n",
    "             'ih':h.soma.eh_hcno,\n",
    "             'leak': h.soma.erev_leak\n",
    "            }\n",
    "    for seg in section:\n",
    "        J = ((Erevs['ina']-seg.v)*(seg.v-Erevs['ik']))/(F*Rin*(seg.v+2*Erevs['ina']-3*Erevs['ik']))\n",
    "        # J в моль_АТФ/с\n",
    "        \n",
    "#     print  (\"ATP_mol/s at rest --> %.3e\" % (J))\n",
    "#     print  (\"ATPs/s at rest --> %.3e\" % (J*6.02*1e23))\n",
    "    return  ( \"Energy in pJ/s %.6g\" % (J*Fatp))"
   ]
  },
  {
   "cell_type": "code",
   "execution_count": 126,
   "metadata": {
    "collapsed": false
   },
   "outputs": [
    {
     "name": "stdout",
     "output_type": "stream",
     "text": [
      "Energy in pJ/s 370.467 \n",
      "Energy in pJ/s 393.736 \n",
      "Energy in pJ/s 392.221\n"
     ]
    }
   ],
   "source": [
    "# Равновесная энергия сомы по Attwell & Laughlin 2001\n",
    "# пДж/с\n",
    "\n",
    "de = net_section_AtLau_enrg(h.dend[1])\n",
    "se = net_section_AtLau_enrg(h.soma)\n",
    "ie = net_section_AtLau_enrg(h.initial)\n",
    "\n",
    "curs = ['ik','ina', 'ileak', 'ih']\n",
    "\n",
    "print de,\"\\n\", se,\"\\n\", ie"
   ]
  },
  {
   "cell_type": "code",
   "execution_count": 87,
   "metadata": {
    "collapsed": false
   },
   "outputs": [
    {
     "data": {
      "text/plain": [
       "(defaultdict(<function __main__.<lambda>>,\n",
       "             {'ih': -0.9293380660991897,\n",
       "              'ik': 0.6457887984615786,\n",
       "              'ina': 0.0,\n",
       "              'leak': 0.09221122921554724}),\n",
       " defaultdict(<function __main__.<lambda>>,\n",
       "             {'ih': 20.121897678519368,\n",
       "              'ik': 6.682712911734947,\n",
       "              'ina': 0.0,\n",
       "              'leak': 0.21652487788671324}))"
      ]
     },
     "execution_count": 87,
     "metadata": {},
     "output_type": "execute_result"
    }
   ],
   "source": [
    "# Равновесные токи и энергия сомы по Moujahid et al., 2011\n",
    "# Единицы измерения: ток в нА, энергия в пДж/с\n",
    "net_section_currendenrg(h.soma)"
   ]
  },
  {
   "cell_type": "code",
   "execution_count": 94,
   "metadata": {
    "collapsed": false
   },
   "outputs": [
    {
     "ename": "AttributeError",
     "evalue": "'tuple' object has no attribute 'values'",
     "output_type": "error",
     "traceback": [
      "\u001b[0;31m---------------------------------------------------------------------------\u001b[0m",
      "\u001b[0;31mAttributeError\u001b[0m                            Traceback (most recent call last)",
      "\u001b[0;32m<ipython-input-94-9e1e404fc598>\u001b[0m in \u001b[0;36m<module>\u001b[0;34m()\u001b[0m\n\u001b[1;32m      4\u001b[0m \u001b[0;31m# total_current = map(net_section_current, all_sections)\u001b[0m\u001b[0;34m\u001b[0m\u001b[0;34m\u001b[0m\u001b[0m\n\u001b[1;32m      5\u001b[0m \u001b[0mtotal_current\u001b[0m \u001b[0;34m=\u001b[0m \u001b[0;34m[\u001b[0m\u001b[0mnet_section_currendenrg\u001b[0m\u001b[0;34m(\u001b[0m\u001b[0msec\u001b[0m\u001b[0;34m)\u001b[0m \u001b[0;32mfor\u001b[0m \u001b[0msec\u001b[0m \u001b[0;32min\u001b[0m \u001b[0mall_sections\u001b[0m\u001b[0;34m]\u001b[0m\u001b[0;34m\u001b[0m\u001b[0m\n\u001b[0;32m----> 6\u001b[0;31m \u001b[0mall_values\u001b[0m \u001b[0;34m=\u001b[0m \u001b[0;34m[\u001b[0m\u001b[0mnetc\u001b[0m\u001b[0;34m.\u001b[0m\u001b[0mvalues\u001b[0m\u001b[0;34m(\u001b[0m\u001b[0;34m)\u001b[0m \u001b[0;32mfor\u001b[0m \u001b[0mnetc\u001b[0m \u001b[0;32min\u001b[0m \u001b[0mtotal_current\u001b[0m\u001b[0;34m]\u001b[0m\u001b[0;34m\u001b[0m\u001b[0m\n\u001b[0m",
      "\u001b[0;31mAttributeError\u001b[0m: 'tuple' object has no attribute 'values'"
     ]
    }
   ],
   "source": [
    "all_sections = [h.soma, h.axon, h.initial]  + [h.dend[i] for i in range(4)]\n",
    "\n",
    "\n",
    "# total_current = map(net_section_current, all_sections)\n",
    "total_current = [net_section_currendenrg(sec) for sec in all_sections]\n",
    "all_values = [netc.values() for netc in total_current]"
   ]
  },
  {
   "cell_type": "code",
   "execution_count": null,
   "metadata": {
    "collapsed": true
   },
   "outputs": [],
   "source": []
  }
 ],
 "metadata": {
  "kernelspec": {
   "display_name": "Python 2",
   "language": "python",
   "name": "python2"
  },
  "language_info": {
   "codemirror_mode": {
    "name": "ipython",
    "version": 2
   },
   "file_extension": ".py",
   "mimetype": "text/x-python",
   "name": "python",
   "nbconvert_exporter": "python",
   "pygments_lexer": "ipython2",
   "version": "2.7.11"
  }
 },
 "nbformat": 4,
 "nbformat_minor": 0
}
