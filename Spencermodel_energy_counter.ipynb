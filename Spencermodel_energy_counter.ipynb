{
 "cells": [
  {
   "cell_type": "code",
   "execution_count": 1,
   "metadata": {
    "collapsed": false
   },
   "outputs": [
    {
     "data": {
      "text/plain": [
       "u'/Users/lampochka/Desktop/GitHub/Spencermodel'"
      ]
     },
     "execution_count": 1,
     "metadata": {},
     "output_type": "execute_result"
    }
   ],
   "source": [
    "pwd"
   ]
  },
  {
   "cell_type": "code",
   "execution_count": 2,
   "metadata": {
    "collapsed": false
   },
   "outputs": [
    {
     "name": "stdout",
     "output_type": "stream",
     "text": [
      "Populating the interactive namespace from numpy and matplotlib\n"
     ]
    }
   ],
   "source": [
    "from neuron import h, gui\n",
    "from scipy import integrate\n",
    "import numpy as np\n",
    "%pylab inline\n",
    "style.use('ggplot')"
   ]
  },
  {
   "cell_type": "code",
   "execution_count": 3,
   "metadata": {
    "collapsed": false,
    "scrolled": true
   },
   "outputs": [
    {
     "data": {
      "text/plain": [
       "1.0"
      ]
     },
     "execution_count": 3,
     "metadata": {},
     "output_type": "execute_result"
    }
   ],
   "source": [
    "h.load_file(\"Spencer.hoc\")"
   ]
  },
  {
   "cell_type": "code",
   "execution_count": 4,
   "metadata": {
    "collapsed": true
   },
   "outputs": [],
   "source": [
    "from collections import defaultdict"
   ]
  },
  {
   "cell_type": "code",
   "execution_count": 5,
   "metadata": {
    "collapsed": true
   },
   "outputs": [],
   "source": [
    "# Посчитатель всех токов:\n",
    "\n",
    "def net_dendrite_currents():\n",
    "    \"Total dendrite currents in nA\"\n",
    "    net_i = defaultdict(lambda: 0)\n",
    "\n",
    "    for i in range(int(h.Nseg)):\n",
    "        dend = h.dend[i]\n",
    "        for loc in dend:\n",
    "            a = loc.area()*1e-8*1e6 #конвертируем площадь в см^2 и ток в nA заодно\n",
    "            net_i['ik'] += loc.ik*a \n",
    "            net_i['ih'] += loc.hcno.ih*a\n",
    "            net_i['ileak'] += loc.i_leak*a\n",
    "    return net_i\n",
    "\n",
    "def net_soma_currents():\n",
    "    net_i = defaultdict(lambda: 0)\n",
    "    loc = h.soma(0.5)\n",
    "    a = loc.area()*1e-8*1e6 #конвертируем площадь в см^2 и ток в nA заодно\n",
    "    net_i['ik'] += loc.ik*a # все К токи\n",
    "    try:\n",
    "        net_i['ina'] += loc.nas.ina*a\n",
    "    except NameError:\n",
    "        print 'skipping iNa'\n",
    "        \n",
    "    #net_i['ih'] += loc.hs.ih*a\n",
    "    net_i['ih'] += loc.hcno.i*a\n",
    "    net_i['ileak'] += loc.i_leak*a\n",
    "    return net_i\n",
    "\n",
    "def net_axon_currents():\n",
    "    net_i = defaultdict(lambda: 0)\n",
    "    for comp in (h.initial, h.axon):\n",
    "        for loc in comp:\n",
    "            a = loc.area()*1e-8*1e6 #конвертируем площадь в см^2 и ток в nA заодно\n",
    "            #net_i['ik'] += loc.ik*a # все К токи\n",
    "            #net_i['ih'] += loc.ihsab.ih*a\n",
    "            #net_i['ih'] += loc.hcno.ih*a\n",
    "            net_i['ileak'] += loc.i_leak*a\n",
    "            net_i['ina'] += loc.nas.ina*a\n",
    "    return net_i"
   ]
  },
  {
   "cell_type": "code",
   "execution_count": 6,
   "metadata": {
    "collapsed": false
   },
   "outputs": [],
   "source": [
    "# %%writefile Energy_counter.py\n",
    "# TODO: во все компартменты добавить *все* токи, только ненужные токи \"выключить\",\n",
    "#       выставив gbar=0\n",
    "\n",
    "\n",
    "# Посчитатель энергии в покое: (а) Способом Moujahid et al., 2011,\n",
    "#(б) Способом подсчета ионов Attwell & Laughlin 2001\n",
    "\n",
    "# (а)\n",
    "\n",
    "def net_section_currendenrg(section):\n",
    "    \"Sum up specific currents within section and return in nA\"\n",
    "    net_i = defaultdict(lambda: 0)\n",
    "    \"e_acc holds resting energies\"\n",
    "    e_acc = defaultdict(lambda: 0)\n",
    "    Erevs = {'ina':h.initial.ena,\n",
    "             'ik':h.soma.ek,\n",
    "             'ih':h.soma.eh_hcno,\n",
    "             'leak': h.soma.erev_leak\n",
    "            }\n",
    "    for seg in section:\n",
    "        a = seg.area()*1e-8*1e6 # конвертируем площадь в см^2 и ток в nA заодно\n",
    "        \n",
    "        try: \n",
    "            net_i['ik'] += seg.ik*a # все К токи: Iklt, Ikht. nA\n",
    "            e_acc['ik'] += seg.ik*a*(seg.v-Erevs['ik']) # nA*mV = pW = 1e-12*W = 1e-12*J/s\n",
    "        except NameError: \n",
    "            print \"Skipping iK\"\n",
    "    \n",
    "        try: \n",
    "            net_i['ina'] += seg.ina*a \n",
    "            e_acc['ina'] += seg.ina*a*(seg.v-Erevs['ina'])\n",
    "        except NameError: \n",
    "            print \"Skipping iNa\"\n",
    "            \n",
    "        try: \n",
    "            net_i['ih'] += seg.hcno.i*a \n",
    "            e_acc['ih'] += seg.hcno.i*a*(seg.v-Erevs['ih'])\n",
    "        except NameError: \n",
    "            print \"Skipping ih\"\n",
    "            \n",
    "        try: \n",
    "            net_i['leak'] += seg.leak.i*a \n",
    "            e_acc['leak'] += seg.leak.i*a*(seg.v-Erevs['leak'])\n",
    "        except NameError: \n",
    "            print \"Skipping leak\"  \n",
    "    return net_i, e_acc\n",
    "\n",
    "# (б)\n",
    "\n",
    "def net_section_AtLau_enrg(section) :\n",
    "    \"Counts total resting energy consumption in ATP_moles/s (CHECK THIS in AL&Lau2001)\"\n",
    "    \n",
    "    F = 96450 # Кл/млоь\n",
    "    Rin = 15.8e6 # значение Rin из литературы, octopus nrn (для кота Bal & Baydas 2009), Ом\n",
    "    Fatp = 50*1e15 # энергия гидролиза АТФ в пДж/моль, по Moujahid et al., 2014 (п. 2.3)\n",
    "    \n",
    "#     Что делать с входным сопротивлением? По авторам формулы, Rin = 1/(gna+gk). \n",
    "#     Можно посчитать Rin в модели, но будет ли оно соответствовать формуле\n",
    "#     Или: Какие брать значения gna, gk?\n",
    "#     Вот, попробовал 6 МОм\n",
    "  \n",
    "    Erevs = {'ina':h.initial.ena,\n",
    "             'ik':h.soma.ek,\n",
    "             'ih':h.soma.eh_hcno,\n",
    "             'leak': h.soma.erev_leak\n",
    "            }\n",
    "    J = ((Erevs['ina']-section.v)*(section.v-Erevs['ik'])*1e-3)/(F*Rin*(section.v+2*Erevs['ina']-3*Erevs['ik']))\n",
    "        # J в моль_АТФ/\n",
    "        \n",
    "#     return  (\"pmol_ATP/s at rest --> %.3e\" % (J*1e12))\n",
    "    return  J*1e12 #  pmol_ATP/s\n",
    "#     return  ( \"Energy in pJ/s %.6g\" % (J*Fatp))"
   ]
  },
  {
   "cell_type": "code",
   "execution_count": 7,
   "metadata": {
    "collapsed": false,
    "scrolled": false
   },
   "outputs": [],
   "source": [
    "# Равновесная энергия сомы по Attwell & Laughlin 2001\n",
    "# пДж/с\n",
    "\n",
    "def total_e(sec):\n",
    "    rATP = 0\n",
    "    for seg in sec:\n",
    "        rATP += net_section_AtLau_enrg(seg)\n",
    "    return rATP\n",
    "\n",
    "\n",
    "# de = net_section_AtLau_enrg(h.dend[1])\n",
    "# se = net_section_AtLau_enrg(h.soma)\n",
    "# ie = net_section_AtLau_enrg(h.initial)\n",
    "\n",
    "# # curs = ['ik','ina', 'ileak', 'ih']\n",
    "\n",
    "# print de,\"\\n\", se,\"\\n\", ie\n"
   ]
  },
  {
   "cell_type": "code",
   "execution_count": 8,
   "metadata": {
    "collapsed": false
   },
   "outputs": [
    {
     "name": "stdout",
     "output_type": "stream",
     "text": [
      "0.937492270642\n"
     ]
    }
   ],
   "source": [
    "all_sections = [h.soma, h.axon, h.initial,] + [h.dend[i] for i in range(4)]\n",
    "\n",
    "a=0\n",
    "for sec in all_sections:\n",
    "    a += total_e(sec)\n",
    "print a"
   ]
  },
  {
   "cell_type": "code",
   "execution_count": 9,
   "metadata": {
    "collapsed": false
   },
   "outputs": [
    {
     "data": {
      "text/plain": [
       "0.02031716995199091"
      ]
     },
     "execution_count": 9,
     "metadata": {},
     "output_type": "execute_result"
    }
   ],
   "source": [
    "total_e(all_sections)"
   ]
  },
  {
   "cell_type": "code",
   "execution_count": 12,
   "metadata": {
    "collapsed": false
   },
   "outputs": [
    {
     "data": {
      "text/plain": [
       "(defaultdict(<function __main__.<lambda>>,\n",
       "             {'ih': -0.9781153272027189,\n",
       "              'ik': 0.5957537671387584,\n",
       "              'ina': 0.0,\n",
       "              'leak': 0.07853981633974483}),\n",
       " defaultdict(<function __main__.<lambda>>,\n",
       "             {'ih': 21.518537198459814,\n",
       "              'ik': 5.957537671387584,\n",
       "              'ina': 0.0,\n",
       "              'leak': 0.15707963267948966}))"
      ]
     },
     "execution_count": 12,
     "metadata": {},
     "output_type": "execute_result"
    }
   ],
   "source": [
    "# Равновесные токи и энергия сомы по Moujahid et al., 2011\n",
    "# Единицы измерения: ток в нА, энергия в пДж/с\n",
    "net_section_currendenrg(h.soma)"
   ]
  },
  {
   "cell_type": "code",
   "execution_count": 18,
   "metadata": {
    "collapsed": false
   },
   "outputs": [],
   "source": [
    "total = map(net_section_currendenrg, all_sections)"
   ]
  },
  {
   "cell_type": "code",
   "execution_count": 19,
   "metadata": {
    "collapsed": false
   },
   "outputs": [
    {
     "data": {
      "text/plain": [
       "['ih', 'ik', 'ina', 'leak']"
      ]
     },
     "execution_count": 19,
     "metadata": {},
     "output_type": "execute_result"
    }
   ],
   "source": [
    "total[0][1].keys()"
   ]
  },
  {
   "cell_type": "code",
   "execution_count": 20,
   "metadata": {
    "collapsed": false
   },
   "outputs": [
    {
     "data": {
      "text/plain": [
       "-0.9292623962492089"
      ]
     },
     "execution_count": 20,
     "metadata": {},
     "output_type": "execute_result"
    }
   ],
   "source": [
    "total[0][0].get('ih')\n"
   ]
  },
  {
   "cell_type": "markdown",
   "metadata": {},
   "source": [
    "##### Измерить Rin, построить IV-характеристику"
   ]
  },
  {
   "cell_type": "code",
   "execution_count": 13,
   "metadata": {
    "collapsed": false
   },
   "outputs": [],
   "source": [
    "def Find_Rin(amps):\n",
    "    V = []\n",
    "    Rin = []\n",
    "    h.tstop = 2000\n",
    "    vrest = -59.651 # h.soma.v, after run with tstop = 2000.\n",
    "    for i in amps:\n",
    "        h.stm1(i,2000,320) # i, current in nanoAmps.\n",
    "        V.append(h.soma.v)\n",
    "        Rin.append((h.soma.v-vrest)*1e-3*1e-6/(i*1e-9)) # Ohm\n",
    "        \n",
    "    iv = figure(figsize=(10,6))\n",
    "    ax = iv.add_subplot(111)\n",
    "    iv.subplots_adjust(top = 0.85)   \n",
    "    ax.set_title('IV curve')\n",
    "    ax.set_xlabel('Iap, nA')\n",
    "    ax.set_ylabel('V$_\\infty$, mV')\n",
    "#     ax.axis([290, 500, mi, ma])\n",
    "    ax.plot(amps, V)\n",
    "#     ax.legend(('$Proximal$', '$Distal$'))\n",
    "    return np.mean(Rin), iv\n",
    "    "
   ]
  },
  {
   "cell_type": "code",
   "execution_count": 15,
   "metadata": {
    "collapsed": false
   },
   "outputs": [
    {
     "data": {
      "text/plain": [
       "(1.997010264958567, <matplotlib.figure.Figure at 0x10ea83c90>)"
      ]
     },
     "execution_count": 15,
     "metadata": {},
     "output_type": "execute_result"
    },
    {
     "data": {
      "image/png": "[encoded data removed]",
      "text/plain": [
       "<matplotlib.figure.Figure at 0x10ea83c90>"
      ]
     },
     "metadata": {},
     "output_type": "display_data"
    }
   ],
   "source": [
    "# IV-характеристика\n",
    "amps =  [-1.0,-0.9,-0.8,-0.7,-0.6,-0.5,-0.4,-0.3,-0.2,-0.1,0.1,0.2,0.3,0.4,0.5,0.6,0.7,0.8,0.9,1.0]\n",
    "Find_Rin(amps)"
   ]
  },
  {
   "cell_type": "markdown",
   "metadata": {},
   "source": [
    "###### По вольт-амперной характеристике выходит, Rin = 2 MOhm (среднее)"
   ]
  },
  {
   "cell_type": "code",
   "execution_count": 16,
   "metadata": {
    "collapsed": false
   },
   "outputs": [
    {
     "data": {
      "text/plain": [
       "0.0"
      ]
     },
     "execution_count": 16,
     "metadata": {},
     "output_type": "execute_result"
    }
   ],
   "source": [
    "# Уравновесим всё:\n",
    "h.run()"
   ]
  },
  {
   "cell_type": "code",
   "execution_count": 17,
   "metadata": {
    "collapsed": false
   },
   "outputs": [
    {
     "data": {
      "text/plain": [
       "True"
      ]
     },
     "execution_count": 17,
     "metadata": {},
     "output_type": "execute_result"
    }
   ],
   "source": [
    "h.soma(.5).ik == h.soma(.5).ik_kltoz + h.soma(.5).ik_khtoz"
   ]
  },
  {
   "cell_type": "code",
   "execution_count": 7,
   "metadata": {
    "collapsed": true
   },
   "outputs": [],
   "source": [
    "# Quick links to sections. \n",
    "sm = h.soma(.5)\n",
    "dn = h.dend[1]\n",
    "ax = h.axon(.5)\n",
    "init = h.initial(.5)"
   ]
  },
  {
   "cell_type": "code",
   "execution_count": 19,
   "metadata": {
    "collapsed": false
   },
   "outputs": [
    {
     "data": {
      "text/plain": [
       "True"
      ]
     },
     "execution_count": 19,
     "metadata": {},
     "output_type": "execute_result"
    }
   ],
   "source": [
    "# Note, dn takes (.5) location if not given\n",
    "dn(.5).ik_kltoz == dn.ik_kltoz"
   ]
  },
  {
   "cell_type": "code",
   "execution_count": 8,
   "metadata": {
    "collapsed": false
   },
   "outputs": [],
   "source": [
    "# Определим Rin по проводимостям\n",
    "\n",
    "def Rinis(seg, Rin_from_literature=0):\n",
    "    gnar = seg.ina/(seg.v-seg.ena)  # Siemens/cm^2\n",
    "    gkr = seg.ik/(seg.v-seg.ek)\n",
    "    ghr = seg.i_hcno/(seg.v-seg.eh_hcno)\n",
    "    glkr = seg.i_leak/(seg.v-seg.erev_leak)\n",
    "\n",
    "#     Rin_o = 6.7 # MOhm, Bal & Oertel, 2001 (mice); 15.8 MOhm, Bal & Baydas, 2009 (cat)\n",
    "    # From model:\n",
    "    Ginx = (gnar + gkr + ghr + glkr)* seg.area()*1e-8\n",
    "    Rin_ox = 1e-6/Ginx\n",
    "\n",
    "#     print Rin_from_literature, 'in cit., in model:', Rin_ox, 'MOhm'\n",
    "    return Rin_ox"
   ]
  },
  {
   "cell_type": "code",
   "execution_count": 9,
   "metadata": {
    "collapsed": false
   },
   "outputs": [
    {
     "name": "stdout",
     "output_type": "stream",
     "text": [
      "6.97812005303\n",
      "1273.81591874\n",
      "176.838825658\n",
      "528.9406895\n"
     ]
    }
   ],
   "source": [
    "# СЕКЦИИ СЕКЦИИ СЕКЦИИ СЕКЦИИ СЕКЦИИ СЕКЦИИ СЕКЦИИ СЕКЦИИ СЕКЦИИ СЕКЦИИ СЕКЦИИ СЕКЦИИ СЕКЦИИ СЕКЦИИ\n",
    "sections = [sm, dn(.5), ax, init]\n",
    "\n",
    "for i in sections:\n",
    "    print Rinis(i, 6.7)"
   ]
  },
  {
   "cell_type": "markdown",
   "metadata": {},
   "source": [
    "1274 MOhm.... "
   ]
  },
  {
   "cell_type": "markdown",
   "metadata": {},
   "source": [
    "# Определение затрат по Attwell, Moujahid, Hasegawa"
   ]
  },
  {
   "cell_type": "code",
   "execution_count": 10,
   "metadata": {
    "collapsed": true
   },
   "outputs": [],
   "source": [
    "R = 8314.4  # Universal gaz constant, mJ / mole*K\n",
    "F = 96485   # Faraday constant [C/mol]\n",
    "F_ATP = 50 # kJ/mol\n",
    "\n",
    "avogadro = 6.022e23 # N_a"
   ]
  },
  {
   "cell_type": "markdown",
   "metadata": {},
   "source": [
    "----------- A t t w e l l -----------"
   ]
  },
  {
   "cell_type": "code",
   "execution_count": 11,
   "metadata": {
    "collapsed": true
   },
   "outputs": [],
   "source": [
    "# Оценка по Attwell & Laughlin 2001\n",
    "def e_attwell(seg, Rin):\n",
    "    J_ATP = (seg.ena-seg.v)*(seg.v-seg.ek)/(F*Rin*(seg.v+2*seg.ena-3*seg.ek)) # nmol_ATP/s\n",
    "    return J_ATP*1e3 # pmol/s"
   ]
  },
  {
   "cell_type": "code",
   "execution_count": 12,
   "metadata": {
    "collapsed": true
   },
   "outputs": [],
   "source": [
    "# Функции перевода единиц Дж <-> моль\n",
    "def pmol2molecules(x):\n",
    "    return x*1e-12*avogadro\n",
    "\n",
    "def atp2J(nATP):\n",
    "    \"Convert pmol ATP/s to energy usage in pJoule/s\"\n",
    "    return F_ATP * nATP * 1e3\n",
    "    pas\n",
    "\n",
    "def nJ2atp(nJ):\n",
    "    \"convert from nJoule/s to nmol ATP/s\"\n",
    "    return (nJ/F_ATP)*1e-3"
   ]
  },
  {
   "cell_type": "markdown",
   "metadata": {},
   "source": [
    "----------- M o u j a h i d / H a s e g a w a -----------"
   ]
  },
  {
   "cell_type": "code",
   "execution_count": 13,
   "metadata": {
    "collapsed": false
   },
   "outputs": [],
   "source": [
    "# Разделитель тока *Ih* на K- и Na- составляющие.\n",
    "# gratio = gk/gna\n",
    "def Ih_split(section, gratio=5):\n",
    "    v = section.v    \n",
    "    gnah = section.i_hcno/((gratio+1)*v - gratio*section.ek - section.ena)\n",
    "    inah = gnah*(v-section.ena)\n",
    "    ikh = gratio*gnah*(v-section.ek)\n",
    "    return inah, ikh\n",
    "\n",
    "# Разделитель тока I_leak на K- и Na- составляющие.\n",
    "# gratio = gk/gna\n",
    "def Ileak_split(section, gratio=1):\n",
    "    v = section.v\n",
    "    gnalk = section.i_leak/((gratio+1)*v - gratio*section.ek - section.ena)\n",
    "    inalk = gnalk*(v-section.ena)\n",
    "    iklk = gratio*gnalk*(v-section.ek)\n",
    "    return inalk, iklk"
   ]
  },
  {
   "cell_type": "code",
   "execution_count": 14,
   "metadata": {
    "collapsed": true
   },
   "outputs": [],
   "source": [
    "# Оценка по Moujahid et al., 2011 \n",
    "def e_moujahid_2(seg, Iap=0):\n",
    "    v = seg.v\n",
    "    inah, ikh = Ih_split(seg) # раскладываем ток Ih\n",
    "    ina = seg.ina + inah # полный Na ток\n",
    "    ik = seg.ik + ikh # полный K ток\n",
    "    acc = Iap*v\n",
    "    acc += ina*(v-seg.ena)\n",
    "    acc += ik*(v-seg.ek)\n",
    "    acc += seg.i_leak*(v-seg.erev_leak)\n",
    "    factor = 1e-8*1e6 # um2 -> cm2 plus uJ/s -> pJ/s\n",
    "    return acc*seg.area()*factor\n",
    "\n",
    "# Оценка по Hasegawa, 2011\n",
    "def e_hasegawa_2(seg, Iap=0):\n",
    "    v = seg.v\n",
    "    inah, ikh = Ih_split(seg) # раскладываем ток Ih\n",
    "    ina = seg.ina + inah # полный Na ток\n",
    "    ik = seg.ik + ikh # полный K ток\n",
    "    acc = Iap*v\n",
    "    acc -= ina*seg.ena\n",
    "    acc -= ik*seg.ek\n",
    "    acc -= seg.i_leak*seg.erev_leak\n",
    "    factor = 1e-8*1e6 # um2 -> cm2 plus uJ/s -> pJ/s\n",
    "    return acc*seg.area()*factor"
   ]
  },
  {
   "cell_type": "code",
   "execution_count": 16,
   "metadata": {
    "collapsed": false
   },
   "outputs": [],
   "source": [
    "h.run()\n",
    "# Attwell\n",
    "dH_sm_a =  atp2J(e_attwell(sm, Rinis(sm)))\n",
    "dH_dn_a =  atp2J(e_attwell(dn(.5), Rinis(dn(.5)))) # Можно ли тут использовать Rinis(dn(.5)) = 1300???Вообще\n",
    "dH_ax_a =  atp2J(e_attwell(ax, Rinis(ax)))\n",
    "dH_init_a =  atp2J(e_attwell(init, Rinis(init)))\n",
    "dH_sum_a = dH_sm_a+dH_ax_a+4*dH_dn_a+dH_init_a\n",
    "\n",
    "# Moujahid\n",
    "dH_sm_m =     e_moujahid_2(sm)\n",
    "dH_dn_m =     e_moujahid_2(dn(.5))\n",
    "dH_ax_m =     e_moujahid_2(ax)\n",
    "dH_init_m =   e_moujahid_2(init)\n",
    "dH_sum_m =    dH_sm_m+dH_ax_m+4*dH_dn_m+dH_init_m\n",
    "\n",
    "# Hasegawa\n",
    "dH_sm_h =     e_hasegawa_2(sm)\n",
    "dH_dn_h =     e_hasegawa_2(dn(.5))\n",
    "dH_ax_h =     e_hasegawa_2(ax)\n",
    "dH_init_h =   e_hasegawa_2(init)\n",
    "dH_sum_h =    dH_sm_h+dH_ax_h+4*dH_dn_h+dH_init_h\n"
   ]
  },
  {
   "cell_type": "code",
   "execution_count": 17,
   "metadata": {
    "collapsed": false
   },
   "outputs": [
    {
     "name": "stdout",
     "output_type": "stream",
     "text": [
      "Затраты в распределенной модели по Attwell (nJ/s) :\n",
      "    soma:       3.414e+02\n",
      "    dend[1]:    1.765e+00\n",
      "    axon:       1.332e+01\n",
      "    initial:    4.451e+00\n",
      "---------------------------\n",
      "    sum:        3.662e+02\n"
     ]
    }
   ],
   "source": [
    "print\\\n",
    "\"\"\"Затраты в распределенной модели по Attwell (nJ/s) :\n",
    "    soma:       {:.3e}\n",
    "    dend[1]:    {:.3e}\n",
    "    axon:       {:.3e}\n",
    "    initial:    {:.3e}\n",
    "---------------------------\n",
    "    sum:        {:.3e}\"\"\".format(dH_sm_a, dH_dn_a, dH_ax_a, dH_init_a, dH_sum_a)"
   ]
  },
  {
   "cell_type": "code",
   "execution_count": 18,
   "metadata": {
    "collapsed": false
   },
   "outputs": [
    {
     "name": "stdout",
     "output_type": "stream",
     "text": [
      "Затраты в распределенной модели по Moujahid (nJ/s) :\n",
      "    soma:       2.090e+02\n",
      "    dend[1]:    2.859e-01\n",
      "    axon:       3.027e-02\n",
      "    initial:    1.006e-01\n",
      "---------------------------\n",
      "    sum:        2.103e+02\n"
     ]
    }
   ],
   "source": [
    "print\\\n",
    "\"\"\"Затраты в распределенной модели по Moujahid (nJ/s) :\n",
    "    soma:       {:.3e}\n",
    "    dend[1]:    {:.3e}\n",
    "    axon:       {:.3e}\n",
    "    initial:    {:.3e}\n",
    "---------------------------\n",
    "    sum:        {:.3e}\"\"\".format(dH_sm_m, dH_dn_m, dH_ax_m, dH_init_m, dH_sum_m)"
   ]
  },
  {
   "cell_type": "code",
   "execution_count": 19,
   "metadata": {
    "collapsed": false
   },
   "outputs": [
    {
     "name": "stdout",
     "output_type": "stream",
     "text": [
      "Затраты в распределенной модели по Hasegawa (nJ/s) :\n",
      "    soma:       1.976e+02\n",
      "    dend[1]:    3.146e-01\n",
      "    axon:       8.111e-01\n",
      "    initial:    3.126e-01\n",
      "---------------------------\n",
      "    sum:        1.999e+02\n"
     ]
    }
   ],
   "source": [
    "print\\\n",
    "\"\"\"Затраты в распределенной модели по Hasegawa (nJ/s) :\n",
    "    soma:       {:.3e}\n",
    "    dend[1]:    {:.3e}\n",
    "    axon:       {:.3e}\n",
    "    initial:    {:.3e}\n",
    "---------------------------\n",
    "    sum:        {:.3e}\"\"\".format(dH_sm_h, dH_dn_h, dH_ax_h, dH_init_h, dH_sum_h)"
   ]
  },
  {
   "cell_type": "code",
   "execution_count": 20,
   "metadata": {
    "collapsed": false,
    "scrolled": true
   },
   "outputs": [
    {
     "name": "stdout",
     "output_type": "stream",
     "text": [
      "Сравнение суммарных затрат энергии в распределенной модели,\n",
      "рассчитанных по Attwell, Moujahid, Hasegawa (pJ/s) :\n",
      "\n",
      "    Attwell & Laughlin, 2001:    3.662e+02\n",
      "    Moujahid & D'Anjou, 2011:    2.103e+02\n",
      "    Hasegawa, 2011:              1.999e+02\n"
     ]
    }
   ],
   "source": [
    "print\\\n",
    "\"\"\"Сравнение суммарных затрат энергии в распределенной модели,\n",
    "рассчитанных по Attwell, Moujahid, Hasegawa (pJ/s) :\n",
    "\n",
    "    Attwell & Laughlin, 2001:    {:.3e}\n",
    "    Moujahid & D'Anjou, 2011:    {:.3e}\n",
    "    Hasegawa, 2011:              {:.3e}\"\"\".format( dH_sum_a, dH_sum_m, dH_sum_h)"
   ]
  },
  {
   "cell_type": "code",
   "execution_count": 21,
   "metadata": {
    "collapsed": false
   },
   "outputs": [
    {
     "name": "stdout",
     "output_type": "stream",
     "text": [
      "1.74185967947\n"
     ]
    }
   ],
   "source": [
    "# Отношение затрат Атвела к затратам Муджахида\n",
    "print dH_sum_a/dH_sum_m"
   ]
  },
  {
   "cell_type": "markdown",
   "metadata": {},
   "source": [
    "### А какие значения получили Attwell & Laughlin 2001 и Howarth et al, 2012 для кортикальных нейронов в покое?\n"
   ]
  },
  {
   "cell_type": "markdown",
   "metadata": {},
   "source": [
    "###### Attwell: 3.42*10^8 ATPs/s"
   ]
  },
  {
   "cell_type": "code",
   "execution_count": 22,
   "metadata": {
    "collapsed": false
   },
   "outputs": [
    {
     "name": "stdout",
     "output_type": "stream",
     "text": [
      "28.3958817669\n"
     ]
    }
   ],
   "source": [
    "E_atw_ratp = 3.42*1e8 #ATPs/s at rest\n",
    "E_atw_pJ = atp2J((E_atw_ratp/avogadro)*1e12)\n",
    "print E_atw_pJ"
   ]
  },
  {
   "cell_type": "code",
   "execution_count": 23,
   "metadata": {
    "collapsed": false
   },
   "outputs": [
    {
     "name": "stdout",
     "output_type": "stream",
     "text": [
      "12.0235544246\n"
     ]
    }
   ],
   "source": [
    "# Во сколько раз octopus тратит больше, чем кортикальный нейрон ?\n",
    "print dH_sm_a/E_atw_pJ"
   ]
  },
  {
   "cell_type": "markdown",
   "metadata": {},
   "source": [
    "###### Howarth: 15% от полных затрат (включая домашнее хозяйство) 27.2 umolATP/g/min"
   ]
  },
  {
   "cell_type": "code",
   "execution_count": 24,
   "metadata": {
    "collapsed": false
   },
   "outputs": [
    {
     "name": "stdout",
     "output_type": "stream",
     "text": [
      "36956.5217391\n"
     ]
    }
   ],
   "source": [
    "E_how = 0.15*27.2*1e-3/60 #molATP/g/s\n",
    "rho_cort = 9.2*1e7 # neurons/g of neocortex (Braitenberg and Schüz, 1998), from Attwell & Laughlin 2001\n",
    "E_how_pJ = atp2J(E_how*1e12/rho_cort)\n",
    "print E_how_pJ"
   ]
  },
  {
   "cell_type": "markdown",
   "metadata": {},
   "source": [
    "# Потребление при активации"
   ]
  },
  {
   "cell_type": "code",
   "execution_count": 30,
   "metadata": {
    "collapsed": true
   },
   "outputs": [],
   "source": [
    "# Ключи к секциям.\n",
    "dn\n",
    "smm = h.soma\n",
    "axx = h.axon\n",
    "initt = h.initial\n",
    "h.tstop = 5000"
   ]
  },
  {
   "cell_type": "code",
   "execution_count": 31,
   "metadata": {
    "collapsed": true
   },
   "outputs": [],
   "source": [
    "# Берет сегмент (для секций, разделенных на сегменты;\n",
    "# для монолитных секций достаточно указать название секции),\n",
    "# возвращает название сегмента в str.\n",
    "def seg2str(seg):\n",
    "    name = seg.sec.name()\n",
    "    x = seg.x\n",
    "    return '-'.join((name, '%1.2f'%x))"
   ]
  },
  {
   "cell_type": "code",
   "execution_count": 32,
   "metadata": {
    "collapsed": true
   },
   "outputs": [],
   "source": [
    "# Берет секцию и создает для нее список названий сегментов (list of strs).\n",
    "def seglist(section):\n",
    "    seglist = []\n",
    "    for seg in section:\n",
    "        seglist.append(seg2str(seg))\n",
    "    return seglist"
   ]
  },
  {
   "cell_type": "code",
   "execution_count": 33,
   "metadata": {
    "collapsed": false
   },
   "outputs": [],
   "source": [
    "# Берет секцию и записывает для каждого ее сегмента \n",
    "# в отдельный словарь Vm, ik, ina, ihcno. Так же записывает время.\n",
    "# Словари содержат значения в hoc_Obj.\n",
    "# Для дальнейшей работы удобно переделывать их в array()\n",
    "\n",
    "def write_vikinaih_each_seg(section):\n",
    "    ileak = defaultdict(lambda: 0)\n",
    "    ihcno = defaultdict(lambda: 0)\n",
    "    ina = defaultdict(lambda: 0)\n",
    "    ik = defaultdict(lambda: 0)\n",
    "#     iklt = defaultdict(lambda: 0)\n",
    "#     ikht = defaultdict(lambda: 0)\n",
    "    v = defaultdict(lambda: 0)\n",
    "    t_ = defaultdict(lambda: 0)\n",
    "    \n",
    "    t_ = h.Vector()\n",
    "    t_.record(h._ref_t)\n",
    "    \n",
    "    for seg in section:\n",
    "        i = seg2str(seg)\n",
    "        \n",
    "        v[i] = h.Vector()\n",
    "        v[i].record(seg._ref_v)\n",
    "        \n",
    "        ik[i] = h.Vector()\n",
    "        ik[i].record(seg._ref_ik)\n",
    "        \n",
    "#         iklt[i] = h.Vector()\n",
    "#         iklt[i].record(seg._ref_ik_kltoz)\n",
    "\n",
    "#         ikht[i] = h.Vector()\n",
    "#         ikht[i].record(seg._ref_ik_khtoz)\n",
    "        \n",
    "        ina[i] = h.Vector()\n",
    "        ina[i].record(seg._ref_ina)  \n",
    "        \n",
    "        ihcno[i] = h.Vector()\n",
    "        ihcno[i].record(seg._ref_i_hcno)\n",
    "        \n",
    "        ileak[i] = h.Vector()\n",
    "        ileak[i].record(seg._ref_i_leak)\n",
    "    h.run()\n",
    "#     return v, ik, iklt, ikht, ina, ihcno, ileak, t_\n",
    "    return v, ik, ina, ihcno, ileak, t_"
   ]
  },
  {
   "cell_type": "code",
   "execution_count": 34,
   "metadata": {
    "collapsed": true
   },
   "outputs": [],
   "source": [
    "# Разделяет ток Ih на K и Na составляющие. gratio = Gk/Gna для тока Ih.\n",
    "# Возвращает словарь для каждой составляющей. Словарь содержит массивы составляющей для каждого сегмента.\n",
    "# Словари содержат (keys: ARRAYs)\n",
    "\n",
    "def Ih_split_array(section, gratio=5):\n",
    "    v, ik, ina, ih, ilk, t_ = write_vikinaih_each_seg(section)\n",
    "    gnah = defaultdict(lambda: 0)\n",
    "    inah = defaultdict(lambda: 0)\n",
    "    ikh = defaultdict(lambda: 0)\n",
    "    \n",
    "    for seg in section:\n",
    "        i = seg2str(seg)\n",
    "#       Тут делается допущение, что Pk/Pna = Gk/Gna (= gratio) для тока Ih. ПРОВЕРИТЬ АНАЛИТИЧЕСКИ \n",
    "        gnah[i] = array(ih[i])/((gratio+1)*array(v[i]) - gratio*section.ek - section.ena)\n",
    "        inah[i] = gnah[i]*(array(v[i]) - section.ena)\n",
    "        ikh[i] = gratio*gnah[i]*(array(v[i]) - section.ek)\n",
    "        \n",
    "    return inah, ikh"
   ]
  },
  {
   "cell_type": "code",
   "execution_count": 35,
   "metadata": {
    "collapsed": true
   },
   "outputs": [],
   "source": [
    "# Берет массив и value, возвращает индекс элемента массива,\n",
    "# наиболее близкого по значению к value\n",
    "\n",
    "def find_nearest(array, value):\n",
    "    \"Element in nd array `a` closest to the scalar value `a0`\"\n",
    "    idx = np.abs(array - value).argmin()\n",
    "    return idx"
   ]
  },
  {
   "cell_type": "code",
   "execution_count": 36,
   "metadata": {
    "collapsed": false
   },
   "outputs": [],
   "source": [
    "# Берет секцию и записывает для каждого ее сегмента \n",
    "# в отдельный словарь массивы энергозатрат (мощьности, p = i*(v-v_rev)) для каждого тока.\n",
    "# Интегрирует эти массивы по времени от start до stop (start, stop -- значения времени, мс),\n",
    "# складывает значения интегралов в каждом сегменте,\n",
    "# записывает эти суммы в переменные, соотв. разным токам (ik, ina, ilk)\n",
    "\n",
    "def count_energy_moujahid(section, start, stop):\n",
    "    v, ik, ina, ih, ilk, t_ = write_vikinaih_each_seg(section)\n",
    "    p_k = defaultdict(lambda: 0) # мощьности: p = i*(v-v_rev)\n",
    "    p_na = defaultdict(lambda: 0)\n",
    "    p_lk = defaultdict(lambda: 0)\n",
    "    \n",
    "    inah, ikh = Ih_split_array(section) # Na, K составляющие тока Ih\n",
    "    e_k = 0\n",
    "    e_na = 0\n",
    "    e_lk = 0\n",
    "    \n",
    "    mi = find_nearest(array(t_), start) # Определить индексы пределов интегрирования: от mi до ma\n",
    "    ma = find_nearest(array(t_), stop) \n",
    "    t_integrate = stop - start # промежуток времени, \"за который\" рассчитывается интеграл\n",
    "    print  \"Integration interval is \", t_integrate, \", (ms)\"\n",
    "    \n",
    "    factor = 1e-8*1e3 # (um2 -> cm2) end (nJ -> pJ) | 1e-8*(cm2/um2) * 1e3*(pJ/nJ) = 1\n",
    "    \n",
    "    s = section(.5).area()    \n",
    "    print \"Segment surface area is\", s, \"um^2\"\n",
    "    \n",
    "    for seg in section:\n",
    "        \n",
    "        i = seg2str(seg)\n",
    "        \n",
    "        p_k[i] = (array(ik[i]) + ikh[i])*(array(v[i]) - seg.ek) # mA/cm2 * mV -> uJ/s/cm2\n",
    "        p_na[i] = (array(ina[i]) + inah[i])*(array(v[i]) - seg.ena)\n",
    "        p_lk[i] = array(ilk[i])*(array(v[i]) - seg.erev_leak)\n",
    "        \n",
    "        e_k += trapz(p_k[i][mi:ma], array(t_)[mi:ma], dx=0.1)*factor # (trapz: uJ/s/cm2 * ms -> nJ/cm2) * factor -> pJ/um2\n",
    "        e_na += trapz(p_na[i][mi:ma], array(t_)[mi:ma], dx=0.1)*factor # dt в trapz фиксорованное???\n",
    "        e_lk += trapz(p_lk[i][mi:ma], array(t_)[mi:ma], dx=0.1)*factor\n",
    "        \n",
    "    return e_k*s, e_na*s, e_lk*s\n",
    "\n",
    "def count_energy_hasegawa(section, start, stop):\n",
    "    v, ik, ina, ih, ilk, t_ = write_vikinaih_each_seg(section)\n",
    "    p_k = defaultdict(lambda: 0)\n",
    "    p_na = defaultdict(lambda: 0)\n",
    "    p_lk = defaultdict(lambda: 0)\n",
    "    \n",
    "    inah, ikh = Ih_split_array(section)\n",
    "    e_k = 0\n",
    "    e_na = 0\n",
    "    e_lk = 0\n",
    "    \n",
    "    mi = find_nearest(array(t_), start) # Определить индексы пределов интегрирования\n",
    "    ma = find_nearest(array(t_), stop)\n",
    "    t_integrate = stop - start # время, \"за которое\" рассчитывается интеграл\n",
    "    print  \"integration interval is \", t_integrate, \" (ms)\"\n",
    "    factor = 1e-8*1e3 # (um2 -> cm2) end (nJ -> pJ) | 1e-8*(cm2/um2) * 1e3*(pJ/nJ) = 1\n",
    "    \n",
    "    s = section(.5).area()    \n",
    "    print \"Segment surface area is\", s, \"um^2\"\n",
    "    for seg in section:\n",
    "        \n",
    "        i = seg2str(seg)\n",
    "        \n",
    "        p_k[i] = (array(ik[i]) + ikh[i])*(array(v[i]) - seg.ek) # mA/cm2 * mV -> uJ/s/cm2\n",
    "        p_na[i] = (array(ina[i]) + inah[i])*(array(v[i]) - seg.ena)\n",
    "        p_lk[i] = array(ilk[i])*(array(v[i]) - seg.erev_leak)\n",
    "        \n",
    "        e_k += trapz(p_k[i][mi:ma], array(t_)[mi:ma])*factor # (trapz: uJ/s/cm2 * ms -> nJ/cm2) * factor -> pJ/um2\n",
    "        e_na += trapz(p_na[i][mi:ma], array(t_)[mi:ma])*factor\n",
    "        e_lk += trapz(p_lk[i][mi:ma], array(t_)[mi:ma])*factor\n",
    "        \n",
    "    return e_k*s, e_na*s, e_lk*s # pJ/um2 * um2 -> pJ"
   ]
  },
  {
   "cell_type": "code",
   "execution_count": 37,
   "metadata": {
    "collapsed": false
   },
   "outputs": [
    {
     "name": "stdout",
     "output_type": "stream",
     "text": [
      "Integration interval is  1000 , (ms)\n",
      "Segment surface area is 32.9867228627 um^2\n",
      "Integration interval is  1000 , (ms)\n",
      "Segment surface area is 1963.49540849 um^2\n",
      "Integration interval is  1000 , (ms)\n",
      "Segment surface area is 282.743338823 um^2\n",
      "Integration interval is  1000 , (ms)\n",
      "Segment surface area is 94.2477796077 um^2\n"
     ]
    }
   ],
   "source": [
    "#  Затраты за 1 (интегрирование от 4000 до 5000 мс) секунду в состоянии покоя\n",
    "ed_k_m, ed_na_m, ed_lk_m = count_energy_moujahid(dn, 3000, 4000)\n",
    "es_k_m, es_na_m, es_lk_m = count_energy_moujahid(smm, 3000, 4000)\n",
    "eax_k_m, eax_na_m, eax_lk_m = count_energy_moujahid(axx, 3000, 4000)\n",
    "einit_k_m, einit_na_m, einit_lk_m = count_energy_moujahid(initt, 3000, 4000)"
   ]
  },
  {
   "cell_type": "code",
   "execution_count": 127,
   "metadata": {
    "collapsed": false
   },
   "outputs": [
    {
     "name": "stdout",
     "output_type": "stream",
     "text": [
      "90.9558585916 208.40065032 0.0301739219674 0.100309681565\n",
      "299.486992515\n"
     ]
    }
   ],
   "source": [
    "#  В покое за 1 сек\n",
    "ed = 4*(ed_k_m+ed_lk_m+ed_na_m) # 4 dendrites\n",
    "es = es_k_m+es_lk_m+es_na_m\n",
    "eax = eax_k_m+eax_lk_m+eax_na_m\n",
    "einit = einit_k_m+einit_lk_m+einit_na_m\n",
    "esum  = ed + es + eax + einit\n",
    "print ed, es, eax, einit\n",
    "print esum"
   ]
  },
  {
   "cell_type": "code",
   "execution_count": 38,
   "metadata": {
    "collapsed": false
   },
   "outputs": [
    {
     "name": "stdout",
     "output_type": "stream",
     "text": [
      "90.669809332 207.745247659 0.030079170438 0.0999940702759\n",
      "298.545130231\n"
     ]
    }
   ],
   "source": [
    "# Затраты при 100-кратной полной активации дендритов с 4-мс интервалом\n",
    "# по moujahid\n",
    "ed = 4*(ed_k_m+ed_lk_m+ed_na_m) # 4 dendrites\n",
    "es = es_k_m+es_lk_m+es_na_m\n",
    "eax = eax_k_m+eax_lk_m+eax_na_m\n",
    "einit = einit_k_m+einit_lk_m+einit_na_m\n",
    "esum  = ed + es + eax + einit\n",
    "print ed, es, eax, einit\n",
    "print esum"
   ]
  },
  {
   "cell_type": "code",
   "execution_count": 130,
   "metadata": {
    "collapsed": false
   },
   "outputs": [
    {
     "name": "stdout",
     "output_type": "stream",
     "text": [
      "Integration interval is  1000 , (ms)\n",
      "Segment surface area is 32.9867228627 um^2\n",
      "Integration interval is  1000 , (ms)\n",
      "Segment surface area is 1963.49540849 um^2\n",
      "Integration interval is  1000 , (ms)\n",
      "Segment surface area is 282.743338823 um^2\n",
      "Integration interval is  1000 , (ms)\n",
      "Segment surface area is 94.2477796077 um^2\n"
     ]
    }
   ],
   "source": [
    "# Затраты за одну секунду при единичной активации всех синапсов\n",
    "ed_k_m, ed_na_m, ed_lk_m = count_energy_moujahid(dn, 4000, 5000)\n",
    "es_k_m, es_na_m, es_lk_m = count_energy_moujahid(smm, 4000, 5000)\n",
    "eax_k_m, eax_na_m, eax_lk_m = count_energy_moujahid(axx, 4000, 5000)\n",
    "einit_k_m, einit_na_m, einit_lk_m = count_energy_moujahid(initt, 4000, 5000)\n",
    "\n"
   ]
  },
  {
   "cell_type": "code",
   "execution_count": 131,
   "metadata": {
    "collapsed": false
   },
   "outputs": [
    {
     "name": "stdout",
     "output_type": "stream",
     "text": [
      "90.9990209837 208.54311562 0.0333495107945 0.19262210667\n",
      "299.768108221 (pJ); 0.00599536216442 (pmol_ATP)\n"
     ]
    }
   ],
   "source": [
    "# Затраты за одну секунду при единичной активации всех синапсов\n",
    "ed = 4*(ed_k_m+ed_lk_m+ed_na_m) # 4 dendrites\n",
    "es = es_k_m+es_lk_m+es_na_m\n",
    "eax = eax_k_m+eax_lk_m+eax_na_m\n",
    "einit = einit_k_m+einit_lk_m+einit_na_m\n",
    "esum  = ed + es + eax + einit\n",
    "print ed, es, eax, einit\n",
    "print esum, \"(pJ);\", nJ2atp(esum), \"(pmol_ATP)\" "
   ]
  },
  {
   "cell_type": "code",
   "execution_count": 39,
   "metadata": {
    "collapsed": false
   },
   "outputs": [
    {
     "name": "stdout",
     "output_type": "stream",
     "text": [
      "integration interval is  1000  (ms)\n",
      "Segment surface area is 32.9867228627 um^2\n",
      "integration interval is  1000  (ms)\n",
      "Segment surface area is 1963.49540849 um^2\n",
      "integration interval is  1000  (ms)\n",
      "Segment surface area is 282.743338823 um^2\n",
      "integration interval is  1000  (ms)\n",
      "Segment surface area is 94.2477796077 um^2\n"
     ]
    }
   ],
   "source": [
    "# Затраты за одну секунду при единичной активации всех синапсов\n",
    "ed_k_h, ed_na_h, ed_lk_h = count_energy_hasegawa(dn, 4000, 5000)\n",
    "es_k_h, es_na_h, es_lk_h = count_energy_hasegawa(smm, 4000, 5000)\n",
    "eax_k_h, eax_na_h, eax_lk_h = count_energy_hasegawa(axx, 4000, 5000)\n",
    "einit_k_h, einit_na_h, einit_lk_h = count_energy_hasegawa(initt, 4000, 5000)\n"
   ]
  },
  {
   "cell_type": "code",
   "execution_count": 40,
   "metadata": {
    "collapsed": false
   },
   "outputs": [
    {
     "name": "stdout",
     "output_type": "stream",
     "text": [
      "84.3943980528 210.947392991 0.357926185574 9.32769898287\n",
      "305.027416212 (pJ); 0.00610054832425 (pmol_ATP)\n"
     ]
    }
   ],
   "source": [
    "# по Hasegawa 100-кратная полная активация с 4-мс интервалом\n",
    "edh = 4*(ed_k_h+ed_lk_h+ed_na_h) # 4 dendrites\n",
    "esh = es_k_h+es_lk_h+es_na_h\n",
    "eaxh = eax_k_h+eax_lk_h+eax_na_h\n",
    "einith = einit_k_h+einit_lk_h+einit_na_h\n",
    "esumh  = edh + esh + eaxh + einith\n",
    "print edh, esh, eaxh, einith\n",
    "print esumh, \"(pJ);\", nJ2atp(esumh), \"(pmol_ATP)\" "
   ]
  },
  {
   "cell_type": "code",
   "execution_count": 41,
   "metadata": {
    "collapsed": true
   },
   "outputs": [],
   "source": [
    "exit"
   ]
  },
  {
   "cell_type": "code",
   "execution_count": null,
   "metadata": {
    "collapsed": true
   },
   "outputs": [],
   "source": []
  }
 ],
 "metadata": {
  "kernelspec": {
   "display_name": "Python 2",
   "language": "python",
   "name": "python2"
  },
  "language_info": {
   "codemirror_mode": {
    "name": "ipython",
    "version": 2
   },
   "file_extension": ".py",
   "mimetype": "text/x-python",
   "name": "python",
   "nbconvert_exporter": "python",
   "pygments_lexer": "ipython2",
   "version": "2.7.11"
  }
 },
 "nbformat": 4,
 "nbformat_minor": 0
}
